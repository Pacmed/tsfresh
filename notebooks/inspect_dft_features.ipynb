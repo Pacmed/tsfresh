{
 "cells": [
  {
   "cell_type": "markdown",
   "metadata": {},
   "source": [
    "This notebook illustrates the Discrete Fourier Transformation (DFT) for different time series. \n",
    "\n",
    "The coefficients of the DFT are one of the many features in *tsfresh*.\n",
    "\n",
    "---"
   ]
  },
  {
   "cell_type": "markdown",
   "metadata": {},
   "source": [
    "# Some theoretical background\n",
    "\n",
    "If we see a series of length $n$ - without timestamps - we don't have any idea about the time domain: In what time was the series recorded? What is the timedelta between 2 observations? The only thing we know (or, more realistic, assume) is that the series is uniformly sampled through time. Of course, with the knowledge of the sampling frequency, one can draw conclusions about the real frequencies in the time domain. But `tsfresh` does not incorporate this information.\n",
    "\n",
    "Therefore, in Discrete Fourier Transform (DFT), \"frequencies\" are expressed in terms of \"fractions of series length\", $2\\pi k/n$, $k=0, ..., n-1$. One can read it as \"$2\\pi k$ divided on $n$ points\" or \"$k$ periods of length $2\\pi$ divided on $n$ points\" or \"$k$ cycles among $n$ points\". At \"time\" $m \\in \\lbrace0, ..., n-1\\rbrace$, the value  $a_m$ is observed. \n",
    "\n",
    "The definition used in the implementation in `np.fft` is (picture from numpy docs):\n",
    "![Definition in implementation np.fft](https://docs.scipy.org/doc/numpy/_images/math/60627d7b56cbf58e87ccb5c3ee92a36ebccc62f5.png)\n",
    "\n",
    "with $a_m$ being the (possibly complex) value of the series at position $m$ and the series length $n$. $a_m$ is multiplied with the complex number on the angle $2\\pi k m/n$ (in rad not deg measure) on the unit circle. The following picture shows how the complex exponential function rotates among the unit circle / shows \"Euler's Theorem\" (figure taken from Wikipedia):"
   ]
  },
  {
   "cell_type": "markdown",
   "metadata": {},
   "source": [
    "![Euler's Theorem on the unit circle](https://upload.wikimedia.org/wikipedia/commons/thumb/7/71/Euler%27s_formula.svg/180px-Euler%27s_formula.svg.png)"
   ]
  },
  {
   "cell_type": "markdown",
   "metadata": {},
   "source": [
    "The resulting coefficients $A_k$ can be drawn on a complex pane, too (figure from Wikipedia):\n",
    "![The resulting FFT coefficient is complex](https://upload.wikimedia.org/wikipedia/commons/thumb/7/7a/Complex_number_illustration_modarg.svg/220px-Complex_number_illustration_modarg.svg.png)\n",
    "\n",
    "\n",
    "The absolute value $r$ of the complex DFT coefficient corresponds to the amplitude of the oscillation, and the angle $\\phi$ corresponds to the phase."
   ]
  },
  {
   "cell_type": "markdown",
   "metadata": {},
   "source": [
    "It is stated in [Wikipedia](https://en.wikipedia.org/wiki/Discrete_Fourier_transform#Definition) (Notation is modified):\n",
    "> It's amplitude and phase are \n",
    ">\n",
    "> $|A_k|$ / $n $ and $arctan(Im(A_k), Re(A_k))$\n",
    "\n",
    "Note the **normalization of the Amplitude with the series length $n$**."
   ]
  },
  {
   "cell_type": "code",
   "execution_count": null,
   "metadata": {
    "deletable": true,
    "editable": true
   },
   "outputs": [],
   "source": [
    "import numpy as np\n",
    "import matplotlib.pylab as plt\n",
    "import seaborn as sns\n",
    "import pandas as pd\n",
    "from numpy.fft import rfft\n",
    "sns.set_style(\"whitegrid\")\n",
    "sns.set_palette('colorblind')"
   ]
  },
  {
   "cell_type": "code",
   "execution_count": null,
   "metadata": {
    "deletable": true,
    "editable": true
   },
   "outputs": [],
   "source": [
    "def plot_x_and_rfft(x, fft_coeffs):\n",
    "    fft = fft_coeffs\n",
    "    plt.figure(figsize=(12, 4))\n",
    "    \n",
    "    plt.subplot(211)\n",
    "    plt.title(\"Time Series\")\n",
    "    plt.plot(x)\n",
    "    \n",
    "    plt.subplot(212)\n",
    "    plt.plot(fft.real, label=\"real\", marker=\"o\")\n",
    "    plt.plot(fft.imag, label=\"imag\", marker=\"o\")\n",
    "    plt.plot(np.abs(fft), label=\"abs\", marker=\"o\")\n",
    "    plt.title(\"Real, imaginary and absolute part of DFT coefficients A(k)\")\n",
    "    plt.legend()\n",
    "    \n",
    "    plt.tight_layout()\n",
    "    plt.show()"
   ]
  },
  {
   "cell_type": "markdown",
   "metadata": {},
   "source": [
    "# Compose a Signal With up to 14 Periods of Cos Included"
   ]
  },
  {
   "cell_type": "markdown",
   "metadata": {},
   "source": [
    "Let's compose a series as the sum of some cosine waves with different frequencies."
   ]
  },
  {
   "cell_type": "code",
   "execution_count": null,
   "metadata": {},
   "outputs": [],
   "source": [
    "n = 200  # no of samples\n",
    "m = np.linspace(0, 1, n, endpoint=False)  # the results differ with the defaul endpoint=True\n",
    "x = np.zeros(n)\n",
    "plt.figure(figsize=(20,20))\n",
    "for i in range(15):\n",
    "    plt.subplot(5, 3, i+1)\n",
    "    # the results differ with the defaul endpoint=True\n",
    "    cos_wave = np.cos(np.linspace(0, i*2*np.pi, n, endpoint=False))\n",
    "    plt.title(\"Signal no {}: {} Cos-Waves\".format(i,i))\n",
    "    plt.plot(cos_wave)\n",
    "    x = x + cos_wave\n",
    "plt.show()"
   ]
  },
  {
   "cell_type": "markdown",
   "metadata": {},
   "source": [
    "The analytical solution of the DFT is:\n",
    "\n",
    "- Amplitude (i.e. absolute value) is 1 for the first 15 coefficients\n",
    "- angle, i.e. phase, should be 0 deg for the first 15 coefficients"
   ]
  },
  {
   "cell_type": "code",
   "execution_count": null,
   "metadata": {},
   "outputs": [],
   "source": [
    "fft_coeffs = rfft(x)\n",
    "amp_deg = tuple(zip(range(20), np.abs(fft_coeffs)[:20], np.angle(fft_coeffs, deg=True)[:20]))\n",
    "print(\"No \\t Abs.Value \\t Abs.Value/N \\t angle in deg\")\n",
    "for no, amp, deg in amp_deg:\n",
    "    print(\"{:d} \\t {:f} \\t {:f} \\t {:4.2f}\".format(no, amp, amp / n, deg))"
   ]
  },
  {
   "cell_type": "markdown",
   "metadata": {},
   "source": [
    "If you use `np.linspace` with `endpoint=True` in the signal generation, you won't get the correct results.\n",
    "\n",
    "The amplitude for the 0th Fourier coefficient - which corresponds to the constant 1 - is correct. But obviously, all the other amplitudes are wrong. Moreover, they are consistently half of the correct amplitude. Why is this the case?\n",
    "\n",
    "I won't go into detail here, but it is because the [output of the DFT - in case of a real valued elements $a_m$ - is symmetric](https://en.wikipedia.org/wiki/Discrete_Fourier_transform#The_real-input_DFT). This means that an investigated \"frequency\" is splitted among two values of $k$, and so is the amplitude (not for $k=0$)."
   ]
  },
  {
   "cell_type": "markdown",
   "metadata": {},
   "source": [
    "# Use Normalization to get Amplitude Information"
   ]
  },
  {
   "cell_type": "markdown",
   "metadata": {},
   "source": [
    "There is a difference in the implementations in `np.fft` and `scipy.fftpack`: NumPy provides the normalization flag, whereas `fftpack` does not.\n",
    "But be aware: **The normalization does not yield true amplitudes**, because the normalization is done by $1 / \\sqrt{n}$. Correct amplitudes can be calculated by multiplication with $1/n$. However, this normalization is sufficient to compare timeseries with different length."
   ]
  },
  {
   "cell_type": "code",
   "execution_count": null,
   "metadata": {},
   "outputs": [],
   "source": [
    "print(\"Unnormalized\")\n",
    "plot_x_and_rfft(x, rfft(x))\n",
    "print(\"Normalized with 1 / sqrt(N)\")\n",
    "plot_x_and_rfft(x, rfft(x, norm=\"ortho\"))"
   ]
  },
  {
   "cell_type": "markdown",
   "metadata": {},
   "source": [
    "For correct resampling via `irfft` to the time domain, the normalization flag in `rfft` and `irfft` must be equal (None or \"ortho\")."
   ]
  },
  {
   "cell_type": "code",
   "execution_count": null,
   "metadata": {},
   "outputs": [],
   "source": [
    "plt.plot(x, '--')\n",
    "plt.plot(np.fft.irfft(rfft(x, norm=\"ortho\"), norm=\"ortho\"), ':')\n",
    "plt.legend(['raw', 'resampled'])\n",
    "plt.show()"
   ]
  },
  {
   "cell_type": "markdown",
   "metadata": {},
   "source": [
    "# Resampling With Coefficients k>=10 Rejected"
   ]
  },
  {
   "cell_type": "markdown",
   "metadata": {},
   "source": [
    "What happens if one tries to resample the signal from the first 10 coefficients only and discard the rest? How does the plot look like?"
   ]
  },
  {
   "cell_type": "code",
   "execution_count": null,
   "metadata": {},
   "outputs": [],
   "source": [
    "fft_coeffs = rfft(x, norm=\"ortho\")\n",
    "trunc_fft_coeffs = np.ones(len(fft_coeffs)) * 0+0j\n",
    "trunc_fft_coeffs[0:10] = fft_coeffs[0:10]\n",
    "trunc_fft_coeffs[0:15]  # the remaining entries are zero"
   ]
  },
  {
   "cell_type": "code",
   "execution_count": null,
   "metadata": {},
   "outputs": [],
   "source": [
    "plt.plot(np.fft.irfft(fft_coeffs, norm=\"ortho\"))  # plot resampled with all coefficients\n",
    "plt.plot(np.fft.irfft(trunc_fft_coeffs, norm=\"ortho\"))  # plot resampled with truncated coefficients\n",
    "plt.legend([\"not truncated\", \"truncated\"])\n",
    "plt.show()"
   ]
  },
  {
   "cell_type": "markdown",
   "metadata": {},
   "source": [
    "We see an information loss without these coefficients."
   ]
  },
  {
   "cell_type": "markdown",
   "metadata": {},
   "source": [
    "# What about a non-integer amount of cycles?"
   ]
  },
  {
   "cell_type": "markdown",
   "metadata": {},
   "source": [
    "Truncate the time series from above. The number of cycles is not integer any more."
   ]
  },
  {
   "cell_type": "code",
   "execution_count": null,
   "metadata": {},
   "outputs": [],
   "source": [
    "y = x[0:-50]  # length is now 150, some periods are not integer any more"
   ]
  },
  {
   "cell_type": "code",
   "execution_count": null,
   "metadata": {},
   "outputs": [],
   "source": [
    "print(\"Unnormalized\")\n",
    "plot_x_and_rfft(y, rfft(y))\n",
    "print(\"Normalized with 1 / sqrt(N)\")\n",
    "plot_x_and_rfft(y, rfft(y, norm=\"ortho\"))"
   ]
  },
  {
   "cell_type": "markdown",
   "metadata": {},
   "source": [
    "About the first 11 coefficients seem to be important. Plot the inverted coefficients / resampled signal."
   ]
  },
  {
   "cell_type": "code",
   "execution_count": null,
   "metadata": {},
   "outputs": [],
   "source": [
    "plt.plot(y, '--')\n",
    "plt.plot(np.fft.irfft(rfft(y, norm=\"ortho\"), norm=\"ortho\"), ':')\n",
    "plt.legend([\"raw\", \"resampled\"])\n",
    "plt.show()"
   ]
  },
  {
   "cell_type": "markdown",
   "metadata": {},
   "source": [
    "We do not have an analytical description of the signal any more, but it seems that it is perfectly described by the DFT coefficients, as it can be resampled without an error."
   ]
  },
  {
   "cell_type": "markdown",
   "metadata": {},
   "source": [
    "# Signal Corrupted With Noise"
   ]
  },
  {
   "cell_type": "code",
   "execution_count": null,
   "metadata": {},
   "outputs": [],
   "source": [
    "noise = np.random.normal(loc=0.0, scale=1, size=200)"
   ]
  },
  {
   "cell_type": "code",
   "execution_count": null,
   "metadata": {},
   "outputs": [],
   "source": [
    "x_with_noise = x + noise\n",
    "plt.plot(x_with_noise)\n",
    "plt.show()"
   ]
  },
  {
   "cell_type": "markdown",
   "metadata": {},
   "source": [
    "Whoosh, this signal seems corrupted. What are the results of the DFT?"
   ]
  },
  {
   "cell_type": "code",
   "execution_count": null,
   "metadata": {},
   "outputs": [],
   "source": [
    "print(\"Unnormalized\")\n",
    "plot_x_and_rfft(x_with_noise, rfft(x_with_noise))\n",
    "print(\"Normalized with 1 / sqrt(N)\")\n",
    "plot_x_and_rfft(x_with_noise, rfft(x_with_noise, norm=\"ortho\"))"
   ]
  },
  {
   "cell_type": "markdown",
   "metadata": {},
   "source": [
    "With this small amount of noise, one can still see the importance of the first 15 DFT coefficients. With more noise (i.e. a larger stddev), the result gets, unsurprisingly, worse."
   ]
  },
  {
   "cell_type": "markdown",
   "metadata": {},
   "source": [
    "# Gaussian Noise"
   ]
  },
  {
   "cell_type": "markdown",
   "metadata": {},
   "source": [
    "How is gaussian noise treated by the DFT?"
   ]
  },
  {
   "cell_type": "code",
   "execution_count": null,
   "metadata": {},
   "outputs": [],
   "source": [
    "noise = np.random.normal(loc=0.0, scale=1, size=200)"
   ]
  },
  {
   "cell_type": "code",
   "execution_count": null,
   "metadata": {
    "deletable": true,
    "editable": true
   },
   "outputs": [],
   "source": [
    "print(\"Unnormalized\")\n",
    "plot_x_and_rfft(noise, rfft(noise))\n",
    "print(\"Normalized\")\n",
    "plot_x_and_rfft(noise, rfft(noise, norm=\"ortho\"))"
   ]
  },
  {
   "cell_type": "markdown",
   "metadata": {},
   "source": [
    "For a random noise, all coefficients seem to be relevant. There seems to be no pattern."
   ]
  },
  {
   "cell_type": "markdown",
   "metadata": {},
   "source": [
    "# Polynomial Signal"
   ]
  },
  {
   "cell_type": "markdown",
   "metadata": {},
   "source": [
    "Discrete Fourier Transformation of an arbitrary polynomial series."
   ]
  },
  {
   "cell_type": "code",
   "execution_count": null,
   "metadata": {},
   "outputs": [],
   "source": [
    "z = np.linspace(-1, 1, n, endpoint=False)\n",
    "polynomial = z + z**2 - z**3 + z**4 - z**5  # some arbitrary composition"
   ]
  },
  {
   "cell_type": "code",
   "execution_count": null,
   "metadata": {
    "deletable": true,
    "editable": true
   },
   "outputs": [],
   "source": [
    "print(\"Unnormalized\")\n",
    "plot_x_and_rfft(polynomial, rfft(polynomial))\n",
    "print(\"Normalized with 1 / sqrt(N)\")\n",
    "plot_x_and_rfft(polynomial, rfft(polynomial, norm=\"ortho\"))"
   ]
  },
  {
   "cell_type": "markdown",
   "metadata": {},
   "source": [
    "Discard all DFT coefficients with k >= 10 and k >= 5 and plot the resampling results."
   ]
  },
  {
   "cell_type": "code",
   "execution_count": null,
   "metadata": {},
   "outputs": [],
   "source": [
    "fft_coeffs = rfft(polynomial, norm=\"ortho\")\n",
    "trunc_fft_coeffs_10 = np.ones(len(fft_coeffs)) * 0+0j\n",
    "trunc_fft_coeffs_5 = np.ones(len(fft_coeffs)) * 0+0j\n",
    "trunc_fft_coeffs_10[0:10] = fft_coeffs[0:10]\n",
    "trunc_fft_coeffs_5[0:5] = fft_coeffs[0:5]"
   ]
  },
  {
   "cell_type": "code",
   "execution_count": null,
   "metadata": {},
   "outputs": [],
   "source": [
    "plt.plot(polynomial)\n",
    "plt.plot(np.fft.irfft(rfft(polynomial, norm=\"ortho\"), norm=\"ortho\"))\n",
    "plt.plot(np.fft.irfft(trunc_fft_coeffs_10, norm=\"ortho\"))\n",
    "plt.plot(np.fft.irfft(trunc_fft_coeffs_5, norm=\"ortho\"))\n",
    "plt.legend([\"raw\", \"resampled_full\", \"resampled_k<10\", \"resampled_k<5\"])\n",
    "plt.show()"
   ]
  },
  {
   "cell_type": "markdown",
   "metadata": {},
   "source": [
    "# Conclusion\n",
    "\n",
    "- For k=0, the exponential function reduces to 1 and the coefficient is simply the sum of all series values \n",
    "- The DFT k=1 coefficient correlates the signal to an oscillation with 1 period in the signal, the k=2 coefficient correlates it to an oscillation with 2 periods in the signal, and so on\n",
    "- If you want you can make the statement: Taking the first DFT coefficients corresponds to a *lowpass* behavior, taking the last DFT coefficients corresponds to a *highpass* behavior, and you can realize whatever bandpass you want by picking the coefficients of interest\n",
    "- Discrete Fourier Transformation (DFT) is not restricted to obviously periodic signals\n",
    "- If the input signal is real valued, one can exploit the symmetry of the DFT coefficients\n",
    "\n",
    "# Further Research\n",
    "- If you are interested in the symmetry of the DFT and the important but unmentioned [Nyquist Frequency](https://en.wikipedia.org/wiki/Nyquist_frequency), you can find many valuable resources in the wild world wide web"
   ]
  }
 ],
 "metadata": {
  "anaconda-cloud": {},
  "kernelspec": {
   "display_name": "Python 2",
   "language": "python",
   "name": "python2"
  },
  "language_info": {
   "codemirror_mode": {
    "name": "ipython",
    "version": 2
   },
   "file_extension": ".py",
   "mimetype": "text/x-python",
   "name": "python",
   "nbconvert_exporter": "python",
   "pygments_lexer": "ipython2"
  }
 },
 "nbformat": 4,
 "nbformat_minor": 2
}
