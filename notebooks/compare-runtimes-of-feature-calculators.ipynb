{
 "cells": [
  {
   "cell_type": "code",
   "execution_count": null,
   "metadata": {
    "deletable": true,
    "editable": true
   },
   "outputs": [],
   "source": [
    "from tsfresh.examples import load_driftbif\n",
    "from tsfresh.feature_extraction import ComprehensiveFCParameters, extract_features\n",
    "from tsfresh.feature_extraction.settings import get_combiner_functions, get_simple_functions\n",
    "import pandas as pd\n",
    "import pprint\n",
    "import timeit\n",
    "from tqdm import tqdm\n",
    "import matplotlib.pylab as plt\n",
    "import seaborn as sns"
   ]
  },
  {
   "cell_type": "code",
   "execution_count": null,
   "metadata": {
    "deletable": true,
    "editable": true
   },
   "outputs": [],
   "source": [
    "# load data\n",
    "X, _ = load_driftbif(10, 1000)\n",
    "X.drop(\"dimension\", axis=1, inplace=True)\n",
    "X.head()"
   ]
  },
  {
   "cell_type": "code",
   "execution_count": null,
   "metadata": {
    "deletable": true,
    "editable": true
   },
   "outputs": [],
   "source": [
    "# get all the parameters and respective functions\n",
    "settings = ComprehensiveFCParameters()"
   ]
  },
  {
   "cell_type": "code",
   "execution_count": null,
   "metadata": {
    "deletable": true,
    "editable": true
   },
   "outputs": [],
   "source": [
    "# compare performance of tsfresh for simple feature calculator that are calculated individually\n",
    "res  = pd.DataFrame()\n",
    "n_ts = 20\n",
    "l_ts = 1000\n",
    "n_ti = 3\n",
    "\n",
    "for f, param in tqdm(settings.items()):\n",
    "    res.loc[f, \"feature\"] = f\n",
    "    res.loc[f, \"n_samp\"] = n_ts\n",
    "    res.loc[f, \"length\"] = l_ts\n",
    "    \n",
    "    fc_dict = {f:param}\n",
    "    \n",
    "    t = timeit.timeit(lambda : extract_features(timeseries_container=X, \n",
    "                                                column_id=\"id\",\n",
    "                                                n_jobs=0, \n",
    "                                                default_fc_parameters=fc_dict, \n",
    "                                                disable_progressbar=True), \n",
    "                      number=n_ti)\n",
    "    n_fs = len(param) if param is not None else 1\n",
    "    res.loc[f, \"n_fs\"] = n_fs\n",
    "    res.loc[f, \"t_abs\"] = t * 1.0/n_fs\n",
    "    res.loc[f, \"t_1ts\"] = t*1.0/(n_ts*n_fs)"
   ]
  },
  {
   "cell_type": "code",
   "execution_count": null,
   "metadata": {},
   "outputs": [],
   "source": [
    "res"
   ]
  },
  {
   "cell_type": "code",
   "execution_count": null,
   "metadata": {
    "deletable": true,
    "editable": true
   },
   "outputs": [],
   "source": [
    "res[\"feature\"] = res.feature.astype(str)\n",
    "res = res.sort_values(by=\"feature\")"
   ]
  },
  {
   "cell_type": "code",
   "execution_count": null,
   "metadata": {
    "deletable": true,
    "editable": true
   },
   "outputs": [],
   "source": [
    "plt.figure(figsize=(6, 20))\n",
    "sns.barplot(y=\"feature\", x=\"t_abs\", data=res)\n",
    "plt.title(\"Runtime of 1 apply features for 1 time series of length 1000\")\n",
    "plt.show()"
   ]
  },
  {
   "cell_type": "code",
   "execution_count": null,
   "metadata": {
    "deletable": true,
    "editable": true
   },
   "outputs": [],
   "source": [
    "plt.figure(figsize=(6,20))\n",
    "sns.barplot(y=\"feature\", x=\"t_1ts\", data=res)\n",
    "plt.title(\"Runtime of aggregate features for 1 time series of length 1000\")\n",
    "plt.show()"
   ]
  },
  {
   "cell_type": "markdown",
   "metadata": {
    "deletable": true,
    "editable": true
   },
   "source": [
    "sample_entropy and approximate_entropy make up for most of the runtime, we create the following plots without them"
   ]
  },
  {
   "cell_type": "code",
   "execution_count": null,
   "metadata": {},
   "outputs": [],
   "source": [
    "plt.figure(figsize=(6,20))\n",
    "sns.barplot(y=\"feature\", x=\"t_1ts\", data=res.drop([\"sample_entropy\", \"approximate_entropy\"]))\n",
    "plt.title(\"Runtime of aggregate features for 1 time series of length 1000\")\n",
    "plt.show()"
   ]
  },
  {
   "cell_type": "code",
   "execution_count": null,
   "metadata": {
    "deletable": true,
    "editable": true
   },
   "outputs": [],
   "source": [
    "# we calculate how much many features cause 90% of the runtime \n",
    "r = res.t_1ts.copy()\n",
    "r.sort_values(ascending=True, inplace=True)\n",
    "r"
   ]
  },
  {
   "cell_type": "code",
   "execution_count": null,
   "metadata": {},
   "outputs": [],
   "source": [
    "# in percentage\n",
    "r / r.sum()*100"
   ]
  }
 ],
 "metadata": {
  "kernelspec": {
   "display_name": "Python 2",
   "language": "python",
   "name": "python2"
  },
  "language_info": {
   "codemirror_mode": {
    "name": "ipython",
    "version": 2
   },
   "file_extension": ".py",
   "mimetype": "text/x-python",
   "name": "python",
   "nbconvert_exporter": "python",
   "pygments_lexer": "ipython2"
  }
 },
 "nbformat": 4,
 "nbformat_minor": 0
}
