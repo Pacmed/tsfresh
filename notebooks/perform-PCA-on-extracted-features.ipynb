{
 "cells": [
  {
   "cell_type": "markdown",
   "metadata": {},
   "source": [
    "*tsfresh* returns a great number of features. Depending on the dynamics of the inspected time series, some of them maybe highly correlated. \n",
    "\n",
    "A common technique to deal with such highly correlated features are transformations such as a principal component analysis (PCA). This notebooks shows you how to perform a PCA on the extracted features."
   ]
  },
  {
   "cell_type": "code",
   "execution_count": null,
   "metadata": {
    "deletable": true,
    "editable": true
   },
   "outputs": [],
   "source": [
    "from sklearn.decomposition import PCA\n",
    "from sklearn.preprocessing import StandardScaler\n",
    "import pandas as pd\n",
    "\n",
    "\n",
    "class PCAForPandas(PCA):\n",
    "    \"\"\"This class is just a small wrapper around the PCA estimator of sklearn including normalization to make it \n",
    "    compatible with pandas DataFrames.\n",
    "    \"\"\"\n",
    "\n",
    "    def __init__(self, **kwargs):\n",
    "        self._z_scaler = StandardScaler()\n",
    "        super(self.__class__, self).__init__(**kwargs)\n",
    "\n",
    "        self._X_columns = None\n",
    "\n",
    "    def fit(self, X, y=None):\n",
    "        \"\"\"Normalize X and call the fit method of the base class with numpy arrays instead of pandas data frames.\"\"\"\n",
    "\n",
    "        X = self._prepare(X)\n",
    "\n",
    "        self._z_scaler.fit(X.values, y)\n",
    "        z_data = self._z_scaler.transform(X.values, y)\n",
    "\n",
    "        return super(self.__class__, self).fit(z_data, y)\n",
    "\n",
    "    def fit_transform(self, X, y=None):\n",
    "        \"\"\"Call the fit and the transform method of this class.\"\"\"\n",
    "\n",
    "        X = self._prepare(X)\n",
    "\n",
    "        self.fit(X, y)\n",
    "        return self.transform(X, y)\n",
    "\n",
    "    def transform(self, X, y=None):\n",
    "        \"\"\"Normalize X and call the transform method of the base class with numpy arrays instead of pandas data frames.\"\"\"\n",
    "\n",
    "        X = self._prepare(X)\n",
    "\n",
    "        z_data = self._z_scaler.transform(X.values, y)\n",
    "\n",
    "        transformed_ndarray = super(self.__class__, self).transform(z_data)\n",
    "\n",
    "        pandas_df = pd.DataFrame(transformed_ndarray)\n",
    "        pandas_df.columns = [\"pca_{}\".format(i) for i in range(len(pandas_df.columns))]\n",
    "\n",
    "        return pandas_df\n",
    "\n",
    "    def _prepare(self, X):\n",
    "        \"\"\"Check if the data is a pandas DataFrame and sorts the column names.\n",
    "\n",
    "        :raise AttributeError: if pandas is not a DataFrame or the columns of the new X is not compatible with the \n",
    "                               columns from the previous X data\n",
    "        \"\"\"\n",
    "        if not isinstance(X, pd.DataFrame):\n",
    "            raise AttributeError(\"X is not a pandas DataFrame\")\n",
    "\n",
    "        X.sort_index(axis=1, inplace=True)\n",
    "\n",
    "        if self._X_columns is not None:\n",
    "            if self._X_columns != list(X.columns):\n",
    "                raise AttributeError(\"The columns of the new X is not compatible with the columns from the previous X data\")\n",
    "        else:\n",
    "            self._X_columns = list(X.columns)\n",
    "\n",
    "        return X"
   ]
  },
  {
   "cell_type": "markdown",
   "metadata": {
    "deletable": true,
    "editable": true
   },
   "source": [
    "## Load robot failure example\n",
    "\n",
    "Splits the data set in a train (1 <= id <= 87) and a test set (87 <= id <= 88). It is assumed that the selection process is done in the past (train) and features for future (test) data sets should be determined. The id 87 is overlapping so that the correctness of the procedure can be easily shown."
   ]
  },
  {
   "cell_type": "code",
   "execution_count": null,
   "metadata": {
    "deletable": true,
    "editable": true
   },
   "outputs": [],
   "source": [
    "from tsfresh.examples.robot_execution_failures import download_robot_execution_failures, load_robot_execution_failures\n",
    "from tsfresh.feature_extraction import extract_features\n",
    "from tsfresh.feature_selection import select_features\n",
    "from tsfresh.utilities.dataframe_functions import impute\n",
    "from tsfresh.feature_extraction import ComprehensiveFCParameters, MinimalFCParameters, settings\n",
    "\n",
    "download_robot_execution_failures()\n",
    "df, y = load_robot_execution_failures()\n",
    "df_train = df.iloc[(df.id <= 87).values]\n",
    "y_train = y[0:-1]\n",
    "\n",
    "df_test = df.iloc[(df.id >= 87).values]\n",
    "y_test = y[-2:]\n",
    "\n",
    "df.head()"
   ]
  },
  {
   "cell_type": "markdown",
   "metadata": {
    "deletable": true,
    "editable": true
   },
   "source": [
    "# Train"
   ]
  },
  {
   "cell_type": "markdown",
   "metadata": {
    "deletable": true,
    "editable": true
   },
   "source": [
    "## Extract train features"
   ]
  },
  {
   "cell_type": "code",
   "execution_count": null,
   "metadata": {
    "deletable": true,
    "editable": true
   },
   "outputs": [],
   "source": [
    "X_train = extract_features(df_train, column_id='id', column_sort='time', default_fc_parameters=MinimalFCParameters(),\n",
    "                           impute_function=impute)"
   ]
  },
  {
   "cell_type": "code",
   "execution_count": null,
   "metadata": {
    "deletable": true,
    "editable": true
   },
   "outputs": [],
   "source": [
    "X_train.head()"
   ]
  },
  {
   "cell_type": "markdown",
   "metadata": {
    "deletable": true,
    "editable": true
   },
   "source": [
    "## Select train features"
   ]
  },
  {
   "cell_type": "code",
   "execution_count": null,
   "metadata": {
    "deletable": true,
    "editable": true
   },
   "outputs": [],
   "source": [
    "X_train_filtered = select_features(X_train, y_train)\n",
    "X_train_filtered.tail()"
   ]
  },
  {
   "cell_type": "markdown",
   "metadata": {
    "deletable": true,
    "editable": true
   },
   "source": [
    "## Principal Component Analysis on train features"
   ]
  },
  {
   "cell_type": "code",
   "execution_count": null,
   "metadata": {
    "deletable": true,
    "editable": true
   },
   "outputs": [],
   "source": [
    "pca_train = PCAForPandas(n_components=4)\n",
    "X_train_pca = pca_train.fit_transform(X_train_filtered)\n",
    "\n",
    "# add index plus 1 to keep original index from robot example\n",
    "X_train_pca.index += 1\n",
    "\n",
    "X_train_pca.tail()"
   ]
  },
  {
   "cell_type": "markdown",
   "metadata": {
    "deletable": true,
    "editable": true
   },
   "source": [
    "# Test"
   ]
  },
  {
   "cell_type": "markdown",
   "metadata": {
    "deletable": true,
    "editable": true
   },
   "source": [
    "## Extract test features\n",
    "\n",
    "Only the selected features from the train data are extracted."
   ]
  },
  {
   "cell_type": "code",
   "execution_count": null,
   "metadata": {
    "deletable": true,
    "editable": true
   },
   "outputs": [],
   "source": [
    "X_test_filtered = extract_features(df_test, column_id='id', column_sort='time',\n",
    "                                   kind_to_fc_parameters=settings.from_columns(X_train_filtered.columns),\n",
    "                                   impute_function=impute)"
   ]
  },
  {
   "cell_type": "code",
   "execution_count": null,
   "metadata": {
    "deletable": true,
    "editable": true
   },
   "outputs": [],
   "source": [
    "X_test_filtered"
   ]
  },
  {
   "cell_type": "markdown",
   "metadata": {
    "deletable": true,
    "editable": true
   },
   "source": [
    "## Principal Component Analysis on test features\n",
    "\n",
    "The PCA components of the id 87 are the same as in the previous train PCA."
   ]
  },
  {
   "cell_type": "code",
   "execution_count": null,
   "metadata": {
    "deletable": true,
    "editable": true
   },
   "outputs": [],
   "source": [
    "X_test_pca = pca_train.transform(X_test_filtered)\n",
    "\n",
    "# reset index to keep original index from robot example\n",
    "X_test_pca.index = [87, 88]\n",
    "\n",
    "X_test_pca"
   ]
  }
 ],
 "metadata": {
  "kernelspec": {
   "display_name": "Python 2",
   "language": "python",
   "name": "python2"
  },
  "language_info": {
   "codemirror_mode": {
    "name": "ipython",
    "version": 2
   },
   "file_extension": ".py",
   "mimetype": "text/x-python",
   "name": "python",
   "nbconvert_exporter": "python",
   "pygments_lexer": "ipython2"
  }
 },
 "nbformat": 4,
 "nbformat_minor": 2
}
