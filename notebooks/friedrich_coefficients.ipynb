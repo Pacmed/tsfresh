{
 "cells": [
  {
   "cell_type": "markdown",
   "metadata": {
    "deletable": true,
    "editable": true
   },
   "source": [
    "<h1><center> Estimating Friedrich's coefficients describing the deterministic dynamics of Langevin model</center></h1>"
   ]
  },
  {
   "cell_type": "markdown",
   "metadata": {
    "deletable": true,
    "editable": true
   },
   "source": [
    "<center>Andreas W. Kempa-Liehr (Department of Engineering Science, University of Auckland)</center>"
   ]
  },
  {
   "cell_type": "markdown",
   "metadata": {
    "deletable": true,
    "editable": true
   },
   "source": [
    "This notebooks explains the friedrich_coefficient features, which has been inspired by the paper of Friedrich et al. (2000): *Extracting model equations from experimental data*. Physics Letters A 271, p. 217-222"
   ]
  },
  {
   "cell_type": "markdown",
   "metadata": {
    "deletable": true,
    "editable": true
   },
   "source": [
    "The general idea is to assume a Langevin model for the dynamics of the time series $x(t)$ \n",
    "$$\\dot{x}(t) = h(x(t)) + \\mathcal{N}(0,R)$$\n",
    "with $\\dot{x}(t)$ denoting the temporal derivative, $h(x(t))$ the deterministic dynamics, and $\\mathcal{N}(0,R)$ a Langevin force modelled as Gaussian white noise with standard deviation $R$.\n",
    "Now, an estimate $\\tilde{h}(x)$ of the deterministic dynamics can be computed by averaging $\\dot{x}(t)$ for a specific interval $x(t)\\in[x-\\epsilon,x+\\epsilon]$ with $|\\epsilon|\\ll 1$:\n",
    "$$\\left.\\tilde{h}(x)\\right|_{x\\in[x-\\epsilon,x+\\epsilon]} \\approx \\frac{\\sum\\limits_{x(t)\\in[x-\\epsilon,x+\\epsilon]} x(t+\\Delta_t)-x(t)}{\\Delta_t \\sum\\limits_{x(t)\\in[x-\\epsilon,x+\\epsilon]} 1}.$$\n",
    "Having a set of estimations $\\{\\tilde{h}(x_1),\\tilde{h}(x_2),\\ldots,\\tilde{h}(x_n)\\}$ with $x_1<x_2<\\ldots<x_n$ at hand, Friedrich's coefficients are calculated by fitting a polynomial of order $m$ to these estimates."
   ]
  },
  {
   "cell_type": "markdown",
   "metadata": {
    "deletable": true,
    "editable": true
   },
   "source": [
    "In order to demonstrate this approach, the dynamics of a dissipative soliton before and after its drift-bifurcation is simulated (Liehr 2013: *Dissipative Solitons in Reaction-Diffusion Systems*. Springer, p. 164).\n",
    "By applying the approach of Friedrich et al. for estimating the deterministic dynamics, the equilibrium velocity of the dissipative soliton is recovered.\n"
   ]
  },
  {
   "cell_type": "code",
   "execution_count": null,
   "metadata": {
    "deletable": true,
    "editable": true
   },
   "outputs": [],
   "source": [
    "from matplotlib import pylab as plt\n",
    "import numpy as np\n",
    "import seaborn as sbn\n",
    "import pandas as pd\n",
    "from tsfresh.examples.driftbif_simulation import velocity"
   ]
  },
  {
   "cell_type": "code",
   "execution_count": null,
   "metadata": {
    "deletable": true,
    "editable": true
   },
   "outputs": [],
   "source": [
    "%matplotlib inline"
   ]
  },
  {
   "cell_type": "code",
   "execution_count": null,
   "metadata": {
    "deletable": true,
    "editable": true
   },
   "outputs": [],
   "source": [
    "from tsfresh.feature_extraction import ComprehensiveFCParameters\n",
    "from tsfresh.feature_extraction.feature_calculators import max_langevin_fixed_point, friedrich_coefficients\n",
    "settings = ComprehensiveFCParameters()\n",
    "default_params = settings['max_langevin_fixed_point'][0]\n",
    "default = settings['friedrich_coefficients']"
   ]
  },
  {
   "cell_type": "code",
   "execution_count": null,
   "metadata": {
    "deletable": true,
    "editable": true
   },
   "outputs": [],
   "source": [
    "def friedrich_method(v, param):\n",
    "    df = pd.DataFrame({'velocity': v[:-1,0], 'acceleration': np.diff(v[:,0])})\n",
    "    df['quantiles']=pd.qcut(df.velocity.values, 30)\n",
    "    groups = df.groupby('quantiles')\n",
    "    result = pd.DataFrame({'a_mean': groups.acceleration.mean(),\n",
    "                           'a_std': groups.acceleration.std(),\n",
    "                           'v_mean': groups.velocity.mean(),\n",
    "                           'v_std': groups.velocity.std()\n",
    "                          })\n",
    "    dynamics = friedrich_coefficients(v[:,0], param)\n",
    "    dynamics = [d[1] for d in dynamics]\n",
    "    v0 = max_langevin_fixed_point(v[:,0], **default_params)\n",
    "    \n",
    "    plt.subplot(2,1,1)\n",
    "    plt.plot(v[:,0])\n",
    "    plt.axhline(y=v0, color='r')\n",
    "    plt.xlabel('time')\n",
    "    plt.ylabel('velocity')\n",
    "\n",
    "    #Active Brownian motion is given if the linear term of the dynamics is positive\n",
    "    if dynamics[-2]>0:\n",
    "        active='Active'\n",
    "    else:\n",
    "        active=''\n",
    "        \n",
    "    plt.title('{} Brownian Motion (largest equilibrium velocity in red)'.format(active))\n",
    "    plt.subplot(2,1,2)\n",
    "    ax = plt.errorbar(result.v_mean,result.a_mean,\n",
    "                 xerr=result.v_std,fmt='o')\n",
    "    x = np.linspace(-0.004, 0.004, 201)\n",
    "    print(dynamics)\n",
    "    plt.plot(x, np.poly1d(dynamics)(x), label='estimated dynamics')\n",
    "    plt.plot(v0,0.,'ro')\n",
    "    plt.axvline(x=v0, color='r')\n",
    "    plt.xlabel('mean velocity')\n",
    "    plt.ylabel('mean acceleration')"
   ]
  },
  {
   "cell_type": "markdown",
   "metadata": {
    "deletable": true,
    "editable": true
   },
   "source": [
    "# Beyond drift-bifurcation"
   ]
  },
  {
   "cell_type": "code",
   "execution_count": null,
   "metadata": {
    "deletable": true,
    "editable": true
   },
   "outputs": [],
   "source": [
    "ds = velocity(tau=3.8, delta_t=0.05, R=3e-4, seed=0)\n",
    "v = ds.simulate(1000000, v0=np.zeros(1))"
   ]
  },
  {
   "cell_type": "code",
   "execution_count": null,
   "metadata": {},
   "outputs": [],
   "source": [
    "friedrich_method(v, default)"
   ]
  },
  {
   "cell_type": "markdown",
   "metadata": {
    "deletable": true,
    "editable": true
   },
   "source": [
    "# Before drift-bifurcation"
   ]
  },
  {
   "cell_type": "code",
   "execution_count": null,
   "metadata": {
    "deletable": true,
    "editable": true
   },
   "outputs": [],
   "source": [
    "ds = velocity(tau=2./0.3-3.8, delta_t=0.05, R=3e-4, seed=0)\n",
    "v = ds.simulate(1000000, v0=np.zeros(1))"
   ]
  },
  {
   "cell_type": "code",
   "execution_count": null,
   "metadata": {
    "deletable": true,
    "editable": true
   },
   "outputs": [],
   "source": [
    "friedrich_method(v, default)"
   ]
  }
 ],
 "metadata": {
  "kernelspec": {
   "display_name": "Python 2",
   "language": "python",
   "name": "python2"
  },
  "language_info": {
   "codemirror_mode": {
    "name": "ipython",
    "version": 2
   },
   "file_extension": ".py",
   "mimetype": "text/x-python",
   "name": "python",
   "nbconvert_exporter": "python",
   "pygments_lexer": "ipython2"
  }
 },
 "nbformat": 4,
 "nbformat_minor": 2
}
